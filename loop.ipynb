{
 "cells": [
  {
   "cell_type": "code",
   "execution_count": 3,
   "metadata": {},
   "outputs": [
    {
     "name": "stdout",
     "output_type": "stream",
     "text": [
      "{% include Plotly_network_pagerank.html %}\n",
      "{% include Plotly_man_len_avgs.html %}\n",
      "{% include Plotly_finished_paths_categories.html %}\n",
      "{% include Plotly_Average Finished Path Length by Category of Machine vs Man.html %}\n",
      "{% include Plotly_network_higher_degree.html %}\n",
      "{% include Plotlu_distr_cat.html %}\n",
      "{% include Plotly_unfinished_paths_categories.html %}\n",
      "{% include Plotly_man_v_mac.html %}\n",
      "{% include Plotly_distr_cat.html %}\n"
     ]
    }
   ],
   "source": [
    "import os\n",
    "\n",
    "# Set the directory path\n",
    "directory_path = '_includes'\n",
    "\n",
    "# List of files to exclude\n",
    "exclude_files = ['back-link.html', 'disqus-comments.html', 'google-analytics.html', 'menu.html', 'post-excerpt.html', \n",
    "                 'post-list-item.html', 'search.html']  # Add filenames you want to exclude\n",
    "\n",
    "# Loop through each file in the directory\n",
    "for filename in os.listdir(directory_path):\n",
    "    # Check if it's a file and not in the exclude list\n",
    "    if os.path.isfile(os.path.join(directory_path, filename)) and filename not in exclude_files:\n",
    "        # Print the formatted string\n",
    "        print(f\"{{% include {filename} %}}\")\n"
   ]
  },
  {
   "cell_type": "code",
   "execution_count": 2,
   "metadata": {},
   "outputs": [
    {
     "name": "stdout",
     "output_type": "stream",
     "text": [
      "{% include Plotly_network_pagerank.html %}\n",
      "{% include Plotly_man_len_avgs.html %}\n",
      "{% include Plotly_finished_paths_categories.html %}\n",
      "{% include histogram_pagerank.png %}\n",
      "{% include tsne_landmark.png %}\n",
      "{% include Plotly_appearances_in_paths_versus_degree.html %}\n",
      "{% include PageRankTop80.png %}\n",
      "{% include count_vs_degree.png %}\n",
      "{% include Plotly_network_higher_degree.html %}\n",
      "{% include Plotly_avg_lengths.html %}\n",
      "{% include Plotly_distr_finished_path_length_25_humans.html %}\n",
      "{% include PageRankAboveMedian.png %}\n",
      "{% include Plotly_normalized_category_counts_unfinished.html %}\n",
      "{% include perfect_count_vs_degree.png %}\n",
      "{% include histogram_shortest_optimal.png %}\n",
      "{% include Plotly_Average_Finished_Path_Length_by_Category_of_Machine_vs_Man.html %}\n",
      "{% include histogram_landmark.png %}\n",
      "{% include Plotly_distr_finished_path_length_humans.html %}\n",
      "{% include Plotly_category_counts_unfinished.html %}\n",
      "{% include tsne_semantic_rank.png %}\n",
      "{% include Plotly_category_counts_finished.html %}\n",
      "{% include DegreeTop.png %}\n",
      "{% include Plotlu_distr_cat.html %}\n",
      "{% include HigherDegree60.png %}\n",
      "{% include perfect_count_vs_pagerank.png %}\n",
      "{% include Plotly_unfinished_paths_categories.html %}\n",
      "{% include Plotly_counts_graph.html %}\n",
      "{% include PageRankClassificationAll.png %}\n",
      "{% include Plotly_normalized_category_counts_finished.html %}\n",
      "{% include Plotly_man_v_mac.html %}\n",
      "{% include Plotly_PageRank40.html %}\n",
      "{% include human_count_vs_degree.png %}\n",
      "{% include AveragePageRank60.png %}\n",
      "{% include Plotly_distr_cat.html %}\n",
      "{% include PageRankArtAboveAverage.png %}\n",
      "{% include histogram_human_lengths.png %}\n",
      "{% include tsne_optimal.png %}\n",
      "{% include human_pagerank_vs_count.png %}\n"
     ]
    }
   ],
   "source": [
    "import os\n",
    "\n",
    "# Set the directory path\n",
    "directory_path = '_includes'\n",
    "\n",
    "# List of files to exclude\n",
    "exclude_files = ['back-link.html', 'disqus-comments.html', 'google-analytics.html', 'menu.html', 'post-excerpt.html', \n",
    "                 'post-list-item.html', 'search.html', '.DS_Store']  # Add filenames you want to exclude\n",
    "\n",
    "# Loop through each file in the directory\n",
    "for filename in os.listdir(directory_path):\n",
    "    # Check if it's a file\n",
    "    if os.path.isfile(os.path.join(directory_path, filename)):\n",
    "        # Rename file if it has spaces\n",
    "        if ' ' in filename:\n",
    "            new_filename = filename.replace(' ', '_')\n",
    "            os.rename(os.path.join(directory_path, filename), os.path.join(directory_path, new_filename))\n",
    "            filename = new_filename\n",
    "\n",
    "        # Exclude certain files\n",
    "        if filename not in exclude_files:\n",
    "            # Print the formatted string\n",
    "            print(f\"{{% include {filename} %}}\")"
   ]
  },
  {
   "cell_type": "code",
   "execution_count": null,
   "metadata": {},
   "outputs": [],
   "source": []
  }
 ],
 "metadata": {
  "kernelspec": {
   "display_name": "ada",
   "language": "python",
   "name": "python3"
  },
  "language_info": {
   "codemirror_mode": {
    "name": "ipython",
    "version": 3
   },
   "file_extension": ".py",
   "mimetype": "text/x-python",
   "name": "python",
   "nbconvert_exporter": "python",
   "pygments_lexer": "ipython3",
   "version": "3.9.18"
  }
 },
 "nbformat": 4,
 "nbformat_minor": 2
}
